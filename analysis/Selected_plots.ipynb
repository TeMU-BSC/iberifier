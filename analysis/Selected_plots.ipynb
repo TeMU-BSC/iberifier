{
 "cells": [
  {
   "cell_type": "markdown",
   "id": "002ee0c4-5f0c-4630-aa97-085c32e23458",
   "metadata": {},
   "source": [
    "# Setting up"
   ]
  },
  {
   "cell_type": "code",
   "execution_count": 1,
   "id": "abb0eee9-70ac-42d7-ab4b-663d3a9ffc60",
   "metadata": {},
   "outputs": [],
   "source": [
    "import pandas as pd\n",
    "# Data visualization\n",
    "import matplotlib as mpl\n",
    "import matplotlib.pyplot as plt\n",
    "import matplotlib.dates as mdates\n",
    "from matplotlib.gridspec import GridSpec\n",
    "from matplotlib.colors import hex2color, rgb2hex,LinearSegmentedColormap, ListedColormap\n",
    "import seaborn as sns\n",
    "import datetime\n",
    "import json\n",
    "import numpy as np\n",
    "from scipy import stats\n",
    "#import networkx as nx\n",
    "import os\n",
    "import random\n",
    "#from causalimpact import CausalImpact\n",
    "#from sklearn.preprocessing import normalize"
   ]
  },
  {
   "cell_type": "code",
   "execution_count": 2,
   "id": "fa757b81-5ab5-49eb-8b6e-a97c44f6bb73",
   "metadata": {},
   "outputs": [],
   "source": [
    "# Main color for the plot\n",
    "main_color_hex = '#1b1c3a'\n",
    "main_color = hex2color(main_color_hex)\n",
    "second_color_hex = '#ffcc03'\n",
    "second_color = hex2color(second_color_hex)\n",
    "third_color_hex = '#1c3a1b'\n",
    "third_color = hex2color(third_color_hex)\n",
    "\n",
    "colors = [main_color, 'white', second_color] # first color is black, last is red\n",
    "#colors = [main_color, second_color] # first color is black, last is red\n",
    "\n",
    "edmo_divert = LinearSegmentedColormap.from_list(\n",
    "        \"EDMO_divert\", colors, N=40)\n",
    "edmo_cat = ListedColormap(edmo_divert(np.linspace(0, 1, 15)), N=17)\n",
    "edmo_cat.name = 'EDMO_cat'\n",
    "mpl.colormaps.register(edmo_divert)\n",
    "mpl.colormaps.register(edmo_cat)\n",
    "\n",
    "sns_color_palette_cat = sns.color_palette('tab20')\n",
    "#sns_color_palette_cat = sns.color_palette('EDMO_divert')\n",
    "sns.set_style(\"white\")\n",
    "# Size of the figure to match the latex document\n",
    "\n",
    "plt.rcParams.update({\n",
    "    \"text.usetex\": True,\n",
    "    \"font.family\": \"sans-serif\",\n",
    "    \"font.sans-serif\": \"Helvetica\",\n",
    "    \"figure.figsize\" : (4.5, 4),\n",
    "    \"font.size\":    11.0,\n",
    "    'legend.fontsize' : 8,\n",
    "    'xtick.labelsize' : 9,\n",
    "    'ytick.labelsize' : 9\n",
    "\n",
    "})\n"
   ]
  },
  {
   "cell_type": "code",
   "execution_count": 3,
   "id": "eccae48d-d61e-435a-af6f-99bd040822a3",
   "metadata": {},
   "outputs": [
    {
     "data": {
      "text/html": [
       "<svg  width=\"550\" height=\"55\"><rect x=\"0\" y=\"0\" width=\"55\" height=\"55\" style=\"fill:#ffde5d;stroke-width:2;stroke:rgb(255,255,255)\"/><rect x=\"55\" y=\"0\" width=\"55\" height=\"55\" style=\"fill:#90909f;stroke-width:2;stroke:rgb(255,255,255)\"/><rect x=\"110\" y=\"0\" width=\"55\" height=\"55\" style=\"fill:#3e3f58;stroke-width:2;stroke:rgb(255,255,255)\"/><rect x=\"165\" y=\"0\" width=\"55\" height=\"55\" style=\"fill:#ffe684;stroke-width:2;stroke:rgb(255,255,255)\"/><rect x=\"220\" y=\"0\" width=\"55\" height=\"55\" style=\"fill:#fff1b8;stroke-width:2;stroke:rgb(255,255,255)\"/><rect x=\"275\" y=\"0\" width=\"55\" height=\"55\" style=\"fill:#ffd42a;stroke-width:2;stroke:rgb(255,255,255)\"/><rect x=\"330\" y=\"0\" width=\"55\" height=\"55\" style=\"fill:#fffbec;stroke-width:2;stroke:rgb(255,255,255)\"/><rect x=\"385\" y=\"0\" width=\"55\" height=\"55\" style=\"fill:#6d6d81;stroke-width:2;stroke:rgb(255,255,255)\"/><rect x=\"440\" y=\"0\" width=\"55\" height=\"55\" style=\"fill:#edeef0;stroke-width:2;stroke:rgb(255,255,255)\"/><rect x=\"495\" y=\"0\" width=\"55\" height=\"55\" style=\"fill:#bfbfc7;stroke-width:2;stroke:rgb(255,255,255)\"/></svg>"
      ],
      "text/plain": [
       "[(1.0, 0.8717948717948718, 0.3665158371040723),\n",
       " (0.5644042232277526, 0.5663147310206134, 0.6236299648064354),\n",
       " (0.24343891402714934, 0.24675716440422324, 0.3463046757164404),\n",
       " (1.0, 0.9025641025641026, 0.518552036199095),\n",
       " (1.0, 0.9435897435897437, 0.721266968325792),\n",
       " (1.0, 0.8307692307692308, 0.16380090497737554),\n",
       " (1.0, 0.9846153846153847, 0.9239819004524887),\n",
       " (0.4268476621417798, 0.42936148818501757, 0.5047762694821518),\n",
       " (0.9312217194570136, 0.9315233785822021, 0.9405731523378582),\n",
       " (0.7478129713423831, 0.7489190548014077, 0.7821015585721468)]"
      ]
     },
     "execution_count": 3,
     "metadata": {},
     "output_type": "execute_result"
    }
   ],
   "source": [
    "sns_color_palette_cat = sns.color_palette('EDMO_divert', 10)#[::-1]\n",
    "random.seed(4)\n",
    "random.shuffle(sns_color_palette_cat)\n",
    "sns_color_palette_cat"
   ]
  },
  {
   "cell_type": "code",
   "execution_count": 4,
   "id": "403d02ec-a16e-400b-9861-8cc8c8e93f4a",
   "metadata": {},
   "outputs": [],
   "source": [
    "# Mkdir folder for plots if not existing\n",
    "folder_plots_eps = './plots/selected_plots/eps/'\n",
    "os.makedirs(folder_plots_eps, exist_ok=True)\n",
    "folder_plots_png = './plots/selected_plots/png/'\n",
    "os.makedirs(folder_plots_png, exist_ok=True)\n",
    "\n",
    "\n",
    "eps_path = os.path.join(folder_plots_eps)\n",
    "png_path = os.path.join(folder_plots_png)\n",
    "os.makedirs(eps_path, exist_ok=True)\n",
    "os.makedirs(png_path, exist_ok=True)"
   ]
  },
  {
   "cell_type": "markdown",
   "id": "1d4cdc2c-a0c9-4f80-ac88-1d17ce2c9ea8",
   "metadata": {},
   "source": [
    "# Functions"
   ]
  },
  {
   "cell_type": "code",
   "execution_count": 5,
   "id": "b2ad79c4-e6e4-49f1-a59c-479679009e1f",
   "metadata": {},
   "outputs": [],
   "source": [
    "def extract_value_from_dict(df, colname, val_pos):\n",
    "    df_temp = pd.json_normalize(df[colname])\n",
    "    df_temp = df_temp.applymap(lambda x: list(x.values())[val_pos] if isinstance(x, dict) else x)\n",
    "    df_temp.columns = [f\"{colname}_{x}\" for x in df_temp.columns]\n",
    "    df = df.drop(colname, axis=1)\n",
    "    return pd.concat([df, df_temp], axis=1)"
   ]
  },
  {
   "cell_type": "code",
   "execution_count": 6,
   "id": "c72c1cef-e183-4a7c-b313-12bc57616534",
   "metadata": {},
   "outputs": [],
   "source": [
    "def extract_values(series, key):\n",
    "    def extract(row):\n",
    "        values = []\n",
    "        for d in row:\n",
    "            if key in d:\n",
    "                values.append(d[key])\n",
    "        return values\n",
    "    return series.apply(extract)"
   ]
  },
  {
   "cell_type": "code",
   "execution_count": 7,
   "id": "c655cfdf-9885-4e45-8e91-a39ff9703b0a",
   "metadata": {},
   "outputs": [],
   "source": [
    "def define_colours(df, column):\n",
    "    # Define the colour for the different categorical variables to be coherent\n",
    "    colours= dict()\n",
    "    df = df.explode(column)\n",
    "\n",
    "    for i, j in enumerate(np.sort(df[column].unique())):\n",
    "        colours[j] = plt.cm.colors.to_rgba(sns_color_palette_cat[i])\n",
    "    return colours\n",
    "\n",
    "\n",
    "def get_values_count(df, column):\n",
    "    df = df.explode(column)\n",
    "    df_counts = df[column].value_counts(normalize=False).to_frame().reset_index().set_axis([column, 'Counts'],  axis=1)\n",
    "    df_counts['Percentages'] = df[column].value_counts(normalize=True).values*100\n",
    "    df_counts['Percentages'] = df_counts['Percentages'].apply(lambda x: round(x, 1))\n",
    "    return df_counts\n",
    "\n",
    "\n",
    "def output_df_for_cross(df, field1, field2, reorder_first=True, reorder_second=True):\n",
    "    # Generate the groupby df \n",
    "    df = df.explode(field1)\n",
    "    df = df.explode(field2)\n",
    "    # Count the value and create a table\n",
    "    df = df.groupby([field1, field2]).size().unstack(fill_value=0)\n",
    "    # Reorder per first category\n",
    "    if reorder_first is True:\n",
    "        df = df.assign(tmp=df.sum(axis=1)).sort_values('tmp', ascending=True).drop(labels='tmp', axis=1)\n",
    "    # Reorder for the second category\n",
    "    if reorder_second is True:\n",
    "        df = df.transpose().assign(tmp=df.sum(axis=0)).sort_values('tmp', ascending=False).drop(labels='tmp', axis=1).transpose()\n",
    "    # Normalised\n",
    "    df_norm = df.div(df.sum(axis=1), axis=0)\n",
    "\n",
    "    return df, df_norm"
   ]
  },
  {
   "cell_type": "code",
   "execution_count": 8,
   "id": "f4a8de58-0845-430e-9585-4a695e04540c",
   "metadata": {},
   "outputs": [],
   "source": [
    "def plot_counts(df, column, color=main_color, kind_bar='bar', width_bar=0.9): \n",
    "                \n",
    "    fig, ax = plt.subplots()\n",
    "    sns.despine(offset=5, trim=False);    \n",
    "    # In case of horizontal plot, reorder to avoid having the highest count at the bottom\n",
    "    if kind_bar == 'barh':\n",
    "        df = df.sort_values(by='Counts', ascending=True)   \n",
    "    df.plot(kind=kind_bar, x=column, y='Counts', stacked=True,ax=ax, legend=None, width=width_bar, color=color)\n",
    "    ax.set(xlabel= column)\n",
    "    ax.set(ylabel='Count')\n",
    "    ax.tick_params(rotation=0)\n",
    "    filename = f'{column}'\n",
    "    return filename, fig, ax\n",
    "\n",
    "\n",
    "def plot_cross(df, field1, field2, colours, width_bar=1, norm=False, ax=None):\n",
    "\n",
    "    if ax is None:\n",
    "        fig, ax = plt.subplots(layout='constrained')\n",
    "    if norm:\n",
    "        sns.despine(offset=None, trim=False, left=True, bottom=True)\n",
    "        filename = f\"{field1}_{field2}_norm\"\n",
    "    else:\n",
    "        sns.despine(offset=5, trim=False);\n",
    "        filename = f\"{field1}_{field2}\"\n",
    "    df.plot.barh(stacked=True, ax=ax, color= color_palette, width=width_bar, edgecolor=second_color, linewidth=0.3)\n",
    "    ax.set(xlabel='Count')\n",
    "    ax.set(ylabel=f'claims_{field1}')\n",
    "    ax.tick_params(rotation=0)\n",
    "    return filename, ax\n",
    "\n",
    "\n",
    "def plot_per_day(df, column, colours,  width_bar=0.9, ax=None):\n",
    "    if ax is None:\n",
    "        fig, ax = plt.subplots()\n",
    "    sns.despine(offset=5, trim=False);\n",
    "    df.plot(kind='bar', ax=ax, stacked=True, color=colours, width=width_bar) \n",
    "    ax.xaxis.set_major_locator(mdates.DayLocator(interval=2))\n",
    "    ax.set(xlabel='Dates')\n",
    "    ax.set(ylabel='Count')\n",
    "    ax.tick_params(rotation=90)\n",
    "    filename = f'claims_{column}_per_days'\n",
    "    return filename, fig, ax\n",
    "\n"
   ]
  },
  {
   "cell_type": "markdown",
   "id": "a4a99c4a-5e7f-4bd6-926a-d7c248cf561d",
   "metadata": {},
   "source": [
    "## Save plots"
   ]
  },
  {
   "cell_type": "code",
   "execution_count": 9,
   "id": "57267f0e-be97-4375-85d1-4c8cde72ddbf",
   "metadata": {},
   "outputs": [],
   "source": [
    "def save_plot(fig, ax, filename, sample, \n",
    "              half_sise=False, \n",
    "              png_size=None, eps_size=None, \n",
    "              legend=True, legend_position='outside lower center', ncol_legend=2):\n",
    "    \n",
    "    def despine(ax, color):\n",
    "        try:\n",
    "            for spine in ax.spines.values():\n",
    "                spine.set_edgecolor(color)\n",
    "            ax.tick_params(axis='both', colors=color)\n",
    "            ax.xaxis.label.set_color(color)\n",
    "            ax.yaxis.label.set_color(color)\n",
    "        except AttributeError:\n",
    "            for axs in ax:\n",
    "                despine(axs, color)\n",
    "                \n",
    "    def change_fontsize_ax(ax, fontsize):\n",
    "        try:\n",
    "            for item in ([ax.title, ax.xaxis.label, ax.yaxis.label] +\n",
    "                 ax.get_xticklabels() + ax.get_yticklabels()):\n",
    "                item.set_fontsize(fontsize)\n",
    "        except AttributeError:\n",
    "            for axs in ax:\n",
    "                change_fontsize_ax(axs, fontsize)\n",
    "\n",
    "        ########### SAVING PNG ###########        \n",
    "    if png_size:\n",
    "        fig.set_size_inches(png_size)\n",
    "    else:\n",
    "        fig.set_size_inches(7, 7)\n",
    "    despine(ax, 'grey')\n",
    "\n",
    "    # Increase font size of everything\n",
    "    fontsize = 16\n",
    "\n",
    "    color_legend = 'grey'\n",
    "    color_text = 'grey'\n",
    "    \n",
    "    change_fontsize_ax(ax, fontsize)\n",
    "    if legend is True:\n",
    "        # Remove duplicate labels from the legend\n",
    "#         if isinstance(ax, np.ndarray):\n",
    "#             for axs in ax:\n",
    "#                 leg_temp = axs.legend()\n",
    "#                 if leg_temp is not None:\n",
    "#                     legend_ax = leg_temp\n",
    "#                 axs.legend().remove()\n",
    "                \n",
    "        fontsize_legend = 15\n",
    "        fig.legend(loc=legend_position, ncol=ncol_legend,  fontsize=fontsize_legend)\n",
    "\n",
    "    \n",
    "    fig.savefig(f'{folder_plots_png}/{sample}_{filename}.png', bbox_inches='tight', pad_inches=0.1, dpi=600)\n",
    "  \n",
    "    ########### Cleaning legend ###########        \n",
    "    fig.legends = []\n",
    "    try:\n",
    "        ax.legend().remove()\n",
    "    except AttributeError:\n",
    "        for axs in ax:\n",
    "            axs.legend().remove()\n",
    "\n",
    "    \n",
    "    ########### SAVING EPS ###########\n",
    "\n",
    "    if eps_size:\n",
    "        fig.set_size_inches(eps_size)\n",
    "    else:\n",
    "        fig.set_size_inches(4.5, 4.5)\n",
    "\n",
    "    despine(ax, 'grey')\n",
    "    fontsize = 11\n",
    "    \n",
    "    color_legend = 'grey'\n",
    "    color_text = 'grey'\n",
    "    \n",
    "    change_fontsize_ax(ax, fontsize)\n",
    "\n",
    "    if legend is True:\n",
    "        # Remove duplicate labels from the legend in case of multiple ax\n",
    "        # if isinstance(ax, np.ndarray):\n",
    "        #     for axs in ax:\n",
    "        #         leg_temp = axs.legend()\n",
    "        #         if leg_temp is not None:\n",
    "        #             legend_ax = leg_temp\n",
    "        #         axs.legend().remove()\n",
    "        fontsize_legend = 9\n",
    "        fig.legend(loc=legend_position, ncol=ncol_legend,  fontsize=fontsize_legend)\n",
    "\n",
    "    fig.savefig(f'{folder_plots_eps}/{sample}_{filename}.eps', bbox_inches='tight', pad_inches=0.1, dpi=600)\n",
    "    \n",
    "    \n",
    "    try:\n",
    "        leg = ax.get_legend()\n",
    "    except AttributeError:\n",
    "        for axs in ax:\n",
    "            leg = axs.get_legend()\n",
    "            if leg is not None:\n",
    "                break\n",
    "\n",
    "  \n",
    " "
   ]
  },
  {
   "cell_type": "markdown",
   "id": "9f3b9955-c5e0-41d9-a997-d5ef7694d01a",
   "metadata": {
    "tags": []
   },
   "source": [
    "# Loading and subsetting data"
   ]
  },
  {
   "cell_type": "code",
   "execution_count": 10,
   "id": "1b8fa912-2db9-4775-89be-bc598998fbaa",
   "metadata": {},
   "outputs": [],
   "source": [
    "with open('./../data/dumps/maldita.json', 'r') as f:\n",
    "    json_iberifier = json.load(f)\n",
    "df_iberifier = pd.json_normalize(json_iberifier)\n",
    "df_iberifier['formats'] = extract_values(df_iberifier['formats'], 'name')\n",
    "df_iberifier['sources'] = extract_values(df_iberifier['sources'], 'name')\n",
    "df_iberifier['categories'] = extract_values(df_iberifier['categories'], 'name')\n",
    "# Drop unused columns\n",
    "to_drop = ['organization.id', 'debunkContent', 'media', 'keywords', 'organizationCalification.calification.id']\n",
    "for col in to_drop:\n",
    "    df_iberifier = df_iberifier.drop(col, axis=1)\n",
    "    \n",
    "# Rename some columns for easy viz\n",
    "rename_cols = {'_id.$oid': 'fact_id', \n",
    "               'type.name': 'type',\n",
    "               'organization.name': 'fact_checker',\n",
    "               'organizationCalification.calification.explanation': 'explanation', \n",
    "               'organizationCalification.calification.name': 'qualification',\n",
    "               'date.$date': 'date'}\n",
    "df_iberifier = df_iberifier.rename(columns=rename_cols)\n",
    "# Convert datetime object\n",
    "df_iberifier['time'] = df_iberifier['date'].astype('datetime64[ns]')\n",
    "df_iberifier['date'] = df_iberifier['date'].astype('datetime64[ns]').dt.date\n",
    "\n",
    "\n",
    "# Replace some nan value with None is some column to avoid issues with np\n",
    "df_iberifier['type'] = df_iberifier['type'].replace(to_replace=np.nan, value='None')\n"
   ]
  },
  {
   "cell_type": "code",
   "execution_count": 11,
   "id": "a88fade7-5467-418e-8c78-15140f74ffe3",
   "metadata": {},
   "outputs": [],
   "source": [
    "with open('./../data/dumps/tweets.json', 'r') as f:\n",
    "    json_tweets = json.load(f)\n",
    "df_tweets = pd.json_normalize(json_tweets)\n",
    "df_tweets['fact_id'] = extract_values(df_tweets['fact_id'], '$oid')\n",
    "\n",
    "# Drop unused columns\n",
    "to_drop = ['tweet.in_reply_to_user.withheld.scope', 'tweet.withheld.scope', 'tweet.attachments.poll_ids', 'tweet.author.withheld.scope']\n",
    "for col in to_drop:\n",
    "    df_tweets = df_tweets.drop(col, axis=1)\n",
    "\n",
    "# Rename some columns for easy viz\n",
    "rename_cols = {'_id.$oid': 'db_id', \n",
    "               'date.$date': 'date', \n",
    "               'tweet.public_metrics.retweet_count': 'retweet_count',\n",
    "               'tweet.public_metrics.like_count': 'like_count',\n",
    "               'tweet.public_metrics.quote_count': 'quote_count',\n",
    "               'tweet.public_metrics.impression_count': 'impression_count',\n",
    "               'tweet.public_metrics.reply_count': 'reply_count'\n",
    "              }\n",
    "\n",
    "df_tweets = df_tweets.rename(columns=rename_cols)\n",
    "# Convert datetime object\n",
    "df_tweets['time'] = df_tweets['date'].astype('datetime64[ns]')\n",
    "df_tweets['date'] = df_tweets['date'].astype('datetime64[ns]').dt.date\n"
   ]
  },
  {
   "cell_type": "code",
   "execution_count": 12,
   "id": "4ccebfd0-fc6c-4116-8c53-c2a89ce5ffa3",
   "metadata": {},
   "outputs": [],
   "source": [
    "with open('./../data/dumps/mynews.json', 'r') as f:\n",
    "    json_mynews = json.load(f)\n",
    "df_mynews = pd.json_normalize(json_mynews)\n",
    "# Rename some columns for easy viz\n",
    "rename_cols = {'_id.$oid': 'db_id', 'date.$date': 'date', 'fact_id.$oid': 'fact_id'}\n",
    "df_mynews = df_mynews.rename(columns=rename_cols)\n",
    "# Convert datetime object\n",
    "df_mynews['time'] = df_mynews['date'].astype('datetime64[ns]')\n",
    "df_mynews['date'] = df_mynews['date'].astype('datetime64[ns]').dt.date"
   ]
  },
  {
   "cell_type": "code",
   "execution_count": 13,
   "id": "e300cf3f-ac55-4ac1-bb49-f8d1db05533e",
   "metadata": {},
   "outputs": [],
   "source": [
    "with open('./../data/dumps/keywords.json', 'r') as f:\n",
    "    json_keywords = json.load(f)\n",
    "df_keywords = pd.json_normalize(json_keywords)\n",
    "rename_cols = {'_id.$oid': 'db_id', 'date.$date': 'date', 'fact_id.$oid': 'fact_id'}\n",
    "df_keywords = df_keywords.rename(columns=rename_cols)"
   ]
  },
  {
   "cell_type": "code",
   "execution_count": 14,
   "id": "2c1a926c-ba46-480b-a4bb-e154e0624ea9",
   "metadata": {},
   "outputs": [],
   "source": [
    "# Subsetting \n",
    "\n",
    "# EVAL \n",
    "## Iberifier\n",
    "mask_eval_iberifier =  (df_iberifier['qualification'] == 'Falso') & (df_iberifier['fact_checker'].isin(['Maldita.es', 'EFE Verifica', 'Newtral']))\n",
    "df_iberifier['experience_subset'] = mask_eval_iberifier\n",
    "#### Get the list of valid fact_ids to mask the other sets\n",
    "list_fact_id_eval = df_iberifier[df_iberifier['experience_subset'] == True]['fact_id'].to_list()\n",
    "\n",
    "## Tweets\n",
    "mask_tweets_eval = df_tweets['fact_id'].apply(lambda x: any(item in list_fact_id_eval for item in x))\n",
    "df_tweets['experience_subset'] = mask_tweets_eval\n",
    "\n",
    "## Mynews\n",
    "mask_mynews_eval =  df_mynews['fact_id'].isin(list_fact_id_eval)\n",
    "df_mynews['experience_subset'] = mask_mynews_eval\n",
    "\n",
    "## Keywords\n",
    "mask_keywords_eval =  df_keywords['fact_id'].isin(list_fact_id_eval)\n",
    "df_keywords['experience_subset'] = mask_keywords_eval\n",
    "\n",
    "# TOPIC_RELATION\n",
    "## Tweets\n",
    "mask_tweets_topic_relation = df_tweets['topic_relation'].notnull() & mask_tweets_eval\n",
    "df_tweets['topic_relation_subset'] = mask_tweets_topic_relation\n",
    "\n",
    "## Mynews\n",
    "mask_mynews_topic_relation = df_mynews['topic_relation'].notnull() & mask_mynews_eval\n",
    "df_mynews['topic_relation_subset'] = mask_mynews_topic_relation\n",
    "\n",
    "## Iberifier\n",
    "### Getting the list of present fact_ids in mynews and tweets from topic_relation. For tweets they may be several fact_ids for one tweet\n",
    "list_factids_topic_relation_tweets = df_tweets[df_tweets['topic_relation_subset'] ==True].explode('fact_id')['fact_id'].to_list()\n",
    "list_factids_topic_relation_mynews = df_mynews[df_mynews['topic_relation_subset'] == True]['fact_id'].to_list()\n",
    "list_factids_topic_relation = list_factids_topic_relation_tweets + list_factids_topic_relation_mynews\n",
    "\n",
    "mask_iberifier_topic_relation = df_iberifier['fact_id'].isin(list_factids_topic_relation)\n",
    "df_iberifier['topic_relation_subset'] = mask_iberifier_topic_relation\n",
    "\n",
    "# On-Topic\n",
    "## Tweets\n",
    "mask_tweets_on_topic = (df_tweets['topic_relation'] == 'on-topic') & mask_tweets_topic_relation\n",
    "df_tweets['on_topic_subset'] = mask_tweets_on_topic\n",
    "## Mynews\n",
    "mask_mynews_on_topic = (df_mynews['topic_relation'] == 'on-topic') & mask_mynews_topic_relation\n",
    "df_mynews['on_topic_subset'] = mask_mynews_on_topic\n",
    "\n",
    "## Iberifier\n",
    "### Getting the list of present fact_ids in mynews and tweets from topic_relation. For tweets they may be several fact_ids for one tweet\n",
    "list_factids_on_topic_tweets = df_tweets[df_tweets['on_topic_subset'] ==True].explode('fact_id')['fact_id'].to_list()\n",
    "list_factids_on_topic_mynews = df_mynews[df_mynews['on_topic_subset'] == True]['fact_id'].to_list()\n",
    "list_factids_on_topic = list_factids_on_topic_tweets + list_factids_on_topic_mynews\n",
    "mask_iberifier_on_topic = df_iberifier['fact_id'].isin(list_factids_on_topic)\n",
    "\n",
    "df_iberifier['on_topic_subset'] = mask_iberifier_on_topic"
   ]
  },
  {
   "cell_type": "markdown",
   "id": "af52b575-f139-4a78-981f-941441076cf5",
   "metadata": {},
   "source": [
    "# Plotting"
   ]
  },
  {
   "cell_type": "markdown",
   "id": "f8d91754-20f7-4f6c-b988-28d3db2c901d",
   "metadata": {},
   "source": [
    "# All - Overview of data collected"
   ]
  },
  {
   "cell_type": "code",
   "execution_count": 15,
   "id": "518b8936-ee29-42c4-ae9d-1435da816647",
   "metadata": {},
   "outputs": [],
   "source": [
    "number_claims_all = len(df_iberifier.index)\n",
    "number_claims_eval = len(df_iberifier[df_iberifier['experience_subset'] == True].index)\n",
    "number_claims_topic_relation =  len(df_iberifier[df_iberifier['topic_relation_subset'] == True].index)\n",
    "number_claims_on_topic = len(df_iberifier[df_iberifier['on_topic_subset'] == True].index)\n",
    "\n",
    "number_tweets_all = len(df_tweets.index)\n",
    "number_tweets_eval = len(df_tweets[df_tweets['experience_subset'] == True].index)\n",
    "number_tweets_topic_relation = len(df_tweets[df_tweets['topic_relation_subset'] == True].index)\n",
    "number_tweets_on_topic = len(df_tweets[df_tweets['on_topic_subset'] == True].index)\n",
    "\n",
    "number_news_all = len(df_mynews.index)\n",
    "number_news_eval = len(df_mynews[df_mynews['experience_subset'] == True].index)\n",
    "number_news_topic_relation = len(df_mynews[df_mynews['topic_relation_subset'] == True].index)\n",
    "number_news_on_topic = len(df_mynews[df_mynews['on_topic_subset'] == True].index)\n",
    "\n",
    "all_count = [number_claims_all, number_news_all, number_tweets_all ]\n",
    "eval_count = [number_claims_eval, number_news_eval, number_tweets_eval]\n",
    "topic_relation_count = [number_claims_topic_relation, number_news_topic_relation, number_tweets_topic_relation]\n",
    "on_topic_count = [number_claims_on_topic, number_news_on_topic,  number_tweets_on_topic]\n",
    "\n",
    "\n",
    "# Add some descriptive stats for them \n",
    "\n",
    "# Average of tweets per claim\n",
    "\n",
    "\n",
    "\n",
    "# Average of news articles per claim"
   ]
  },
  {
   "cell_type": "markdown",
   "id": "e0d8d043-5f1a-4985-932a-aaf2fc003a91",
   "metadata": {},
   "source": [
    "## Descriptive table"
   ]
  },
  {
   "cell_type": "code",
   "execution_count": 16,
   "id": "1f3f546b-0e09-4b34-b009-b4676e55c65f",
   "metadata": {},
   "outputs": [
    {
     "data": {
      "text/html": [
       "<div>\n",
       "<style scoped>\n",
       "    .dataframe tbody tr th:only-of-type {\n",
       "        vertical-align: middle;\n",
       "    }\n",
       "\n",
       "    .dataframe tbody tr th {\n",
       "        vertical-align: top;\n",
       "    }\n",
       "\n",
       "    .dataframe thead th {\n",
       "        text-align: right;\n",
       "    }\n",
       "</style>\n",
       "<table border=\"1\" class=\"dataframe\">\n",
       "  <thead>\n",
       "    <tr style=\"text-align: right;\">\n",
       "      <th></th>\n",
       "      <th>Data source</th>\n",
       "      <th>Counts</th>\n",
       "    </tr>\n",
       "  </thead>\n",
       "  <tbody>\n",
       "    <tr>\n",
       "      <th>0</th>\n",
       "      <td>Claims</td>\n",
       "      <td>191</td>\n",
       "    </tr>\n",
       "    <tr>\n",
       "      <th>1</th>\n",
       "      <td>News</td>\n",
       "      <td>1563</td>\n",
       "    </tr>\n",
       "    <tr>\n",
       "      <th>2</th>\n",
       "      <td>Tweets</td>\n",
       "      <td>115873</td>\n",
       "    </tr>\n",
       "  </tbody>\n",
       "</table>\n",
       "</div>"
      ],
      "text/plain": [
       "  Data source  Counts\n",
       "0      Claims     191\n",
       "1        News    1563\n",
       "2      Tweets  115873"
      ]
     },
     "execution_count": 16,
     "metadata": {},
     "output_type": "execute_result"
    }
   ],
   "source": [
    "datasources = ['Claims','News',  'Tweets' ]\n",
    "df_overview = pd.DataFrame({'Data source': datasources, 'Counts': all_count})#.set_index('Data source')\n",
    "#filename, fig, ax = plot_counts(df_overview, 'Data source', kind_bar='bar')\n",
    "df_overview"
   ]
  },
  {
   "cell_type": "markdown",
   "id": "05a3e6e3-c7ad-4b45-a54d-536d5b6fded3",
   "metadata": {},
   "source": [
    "## Fact checkers"
   ]
  },
  {
   "cell_type": "code",
   "execution_count": 17,
   "id": "1e376ac9-84dc-469d-8758-4231fd83ec51",
   "metadata": {},
   "outputs": [
    {
     "data": {
      "text/html": [
       "<div>\n",
       "<style scoped>\n",
       "    .dataframe tbody tr th:only-of-type {\n",
       "        vertical-align: middle;\n",
       "    }\n",
       "\n",
       "    .dataframe tbody tr th {\n",
       "        vertical-align: top;\n",
       "    }\n",
       "\n",
       "    .dataframe thead th {\n",
       "        text-align: right;\n",
       "    }\n",
       "</style>\n",
       "<table border=\"1\" class=\"dataframe\">\n",
       "  <thead>\n",
       "    <tr style=\"text-align: right;\">\n",
       "      <th></th>\n",
       "      <th>fact_checker</th>\n",
       "      <th>Counts</th>\n",
       "      <th>Percentages</th>\n",
       "    </tr>\n",
       "  </thead>\n",
       "  <tbody>\n",
       "    <tr>\n",
       "      <th>0</th>\n",
       "      <td>Newtral</td>\n",
       "      <td>77</td>\n",
       "      <td>40.3</td>\n",
       "    </tr>\n",
       "    <tr>\n",
       "      <th>1</th>\n",
       "      <td>Maldita.es</td>\n",
       "      <td>60</td>\n",
       "      <td>31.4</td>\n",
       "    </tr>\n",
       "    <tr>\n",
       "      <th>2</th>\n",
       "      <td>Polígrafo</td>\n",
       "      <td>33</td>\n",
       "      <td>17.3</td>\n",
       "    </tr>\n",
       "    <tr>\n",
       "      <th>3</th>\n",
       "      <td>Verificat</td>\n",
       "      <td>14</td>\n",
       "      <td>7.3</td>\n",
       "    </tr>\n",
       "    <tr>\n",
       "      <th>4</th>\n",
       "      <td>EFE Verifica</td>\n",
       "      <td>7</td>\n",
       "      <td>3.7</td>\n",
       "    </tr>\n",
       "  </tbody>\n",
       "</table>\n",
       "</div>"
      ],
      "text/plain": [
       "   fact_checker  Counts  Percentages\n",
       "0       Newtral      77         40.3\n",
       "1    Maldita.es      60         31.4\n",
       "2     Polígrafo      33         17.3\n",
       "3     Verificat      14          7.3\n",
       "4  EFE Verifica       7          3.7"
      ]
     },
     "execution_count": 17,
     "metadata": {},
     "output_type": "execute_result"
    },
    {
     "data": {
      "image/png": "[encoded data removed]",
      "text/plain": [
       "<Figure size 450x450 with 1 Axes>"
      ]
     },
     "metadata": {},
     "output_type": "display_data"
    }
   ],
   "source": [
    "field = 'fact_checker'\n",
    "\n",
    "# Define the colour for the fact-checker to be coherent\n",
    "colours_fact_checker = define_colours(df_iberifier, field)\n",
    "\n",
    "# Get the counts\n",
    "field_counts = get_values_count(df_iberifier, field)\n",
    "\n",
    "# Get per days\n",
    "field_dates, field_dates_norm = output_df_for_cross(df_iberifier, 'date', field, reorder_first=False, reorder_second=True)\n",
    "\n",
    "# Get the table\n",
    "## Save the table\n",
    "#field_counts.to_csv(f\"./tables/{sample}_proportion_{field}.csv\")\n",
    "\n",
    "# Get the plot\n",
    "filename, fig, ax = plot_counts(field_counts, field, kind_bar='barh')\n",
    "ax.set_xlabel('Fact checkers')\n",
    "#ax.tick_params(rotation=90)\n",
    "\n",
    "## Save the plot\n",
    "save_plot(fig, ax, filename, 'all', legend=False)\n",
    "\n",
    "# Output the table\n",
    "field_counts"
   ]
  },
  {
   "cell_type": "markdown",
   "id": "cbd9c67a-ba61-4e56-bc65-070a9c393752",
   "metadata": {},
   "source": [
    "## Qualification of claim"
   ]
  },
  {
   "cell_type": "code",
   "execution_count": 18,
   "id": "cb46420e-88e1-4c60-a607-81bee32e0a10",
   "metadata": {},
   "outputs": [
    {
     "data": {
      "text/html": [
       "<div>\n",
       "<style scoped>\n",
       "    .dataframe tbody tr th:only-of-type {\n",
       "        vertical-align: middle;\n",
       "    }\n",
       "\n",
       "    .dataframe tbody tr th {\n",
       "        vertical-align: top;\n",
       "    }\n",
       "\n",
       "    .dataframe thead th {\n",
       "        text-align: right;\n",
       "    }\n",
       "</style>\n",
       "<table border=\"1\" class=\"dataframe\">\n",
       "  <thead>\n",
       "    <tr style=\"text-align: right;\">\n",
       "      <th></th>\n",
       "      <th>qualification</th>\n",
       "      <th>Counts</th>\n",
       "      <th>Percentages</th>\n",
       "    </tr>\n",
       "  </thead>\n",
       "  <tbody>\n",
       "    <tr>\n",
       "      <th>0</th>\n",
       "      <td>Falso</td>\n",
       "      <td>124</td>\n",
       "      <td>64.9</td>\n",
       "    </tr>\n",
       "    <tr>\n",
       "      <th>1</th>\n",
       "      <td>Verdadero / Verdadeiro</td>\n",
       "      <td>24</td>\n",
       "      <td>12.6</td>\n",
       "    </tr>\n",
       "    <tr>\n",
       "      <th>2</th>\n",
       "      <td>Explainer</td>\n",
       "      <td>22</td>\n",
       "      <td>11.5</td>\n",
       "    </tr>\n",
       "    <tr>\n",
       "      <th>3</th>\n",
       "      <td>Engañoso / Enganador</td>\n",
       "      <td>13</td>\n",
       "      <td>6.8</td>\n",
       "    </tr>\n",
       "    <tr>\n",
       "      <th>4</th>\n",
       "      <td>No verificable / Não verificável</td>\n",
       "      <td>4</td>\n",
       "      <td>2.1</td>\n",
       "    </tr>\n",
       "    <tr>\n",
       "      <th>5</th>\n",
       "      <td>Manipulado</td>\n",
       "      <td>4</td>\n",
       "      <td>2.1</td>\n",
       "    </tr>\n",
       "  </tbody>\n",
       "</table>\n",
       "</div>"
      ],
      "text/plain": [
       "                      qualification  Counts  Percentages\n",
       "0                             Falso     124         64.9\n",
       "1            Verdadero / Verdadeiro      24         12.6\n",
       "2                         Explainer      22         11.5\n",
       "3              Engañoso / Enganador      13          6.8\n",
       "4  No verificable / Não verificável       4          2.1\n",
       "5                        Manipulado       4          2.1"
      ]
     },
     "execution_count": 18,
     "metadata": {},
     "output_type": "execute_result"
    },
    {
     "data": {
      "image/png": "[encoded data removed]",
      "text/plain": [
       "<Figure size 450x450 with 1 Axes>"
      ]
     },
     "metadata": {},
     "output_type": "display_data"
    }
   ],
   "source": [
    "field = 'qualification'\n",
    "\n",
    "# Define the colour for the fact-checker to be coherent\n",
    "colours_qualification_claims = define_colours(df_iberifier, field)\n",
    "\n",
    "# Get the counts\n",
    "field_counts = get_values_count(df_iberifier, field)\n",
    "\n",
    "# Get per days\n",
    "field_dates, field_dates_norm = output_df_for_cross(df_iberifier, 'date', field, reorder_first=False, reorder_second=True)\n",
    "\n",
    "# Get the table\n",
    "## Save the table\n",
    "#field_counts.to_csv(f\"./tables/{sample}_proportion_{field}.csv\")\n",
    "\n",
    "# Get the plot\n",
    "filename, fig, ax = plot_counts(field_counts, field, kind_bar='barh')\n",
    "ax.set_ylabel('Type of claim')\n",
    "ax.set_xlabel('Counts')\n",
    "\n",
    "## Save the plot\n",
    "save_plot(fig, ax, filename, 'all', legend=False)\n",
    "\n",
    "# Output the table\n",
    "field_counts"
   ]
  },
  {
   "cell_type": "markdown",
   "id": "c3768dca-b940-4175-9aa0-34a5edd3b7ec",
   "metadata": {},
   "source": [
    "## Source of Claim"
   ]
  },
  {
   "cell_type": "code",
   "execution_count": 19,
   "id": "1c17e3a1-43ca-4ab2-b4b7-7d3cfc0b83bc",
   "metadata": {},
   "outputs": [
    {
     "data": {
      "text/html": [
       "<div>\n",
       "<style scoped>\n",
       "    .dataframe tbody tr th:only-of-type {\n",
       "        vertical-align: middle;\n",
       "    }\n",
       "\n",
       "    .dataframe tbody tr th {\n",
       "        vertical-align: top;\n",
       "    }\n",
       "\n",
       "    .dataframe thead th {\n",
       "        text-align: right;\n",
       "    }\n",
       "</style>\n",
       "<table border=\"1\" class=\"dataframe\">\n",
       "  <thead>\n",
       "    <tr style=\"text-align: right;\">\n",
       "      <th></th>\n",
       "      <th>sources</th>\n",
       "      <th>Counts</th>\n",
       "      <th>Percentages</th>\n",
       "    </tr>\n",
       "  </thead>\n",
       "  <tbody>\n",
       "    <tr>\n",
       "      <th>0</th>\n",
       "      <td>Twitter</td>\n",
       "      <td>81</td>\n",
       "      <td>28.9</td>\n",
       "    </tr>\n",
       "    <tr>\n",
       "      <th>1</th>\n",
       "      <td>Facebook</td>\n",
       "      <td>77</td>\n",
       "      <td>27.5</td>\n",
       "    </tr>\n",
       "    <tr>\n",
       "      <th>2</th>\n",
       "      <td>Otros / Outros</td>\n",
       "      <td>63</td>\n",
       "      <td>22.5</td>\n",
       "    </tr>\n",
       "    <tr>\n",
       "      <th>3</th>\n",
       "      <td>WhatsApp</td>\n",
       "      <td>27</td>\n",
       "      <td>9.6</td>\n",
       "    </tr>\n",
       "    <tr>\n",
       "      <th>4</th>\n",
       "      <td>TikTok</td>\n",
       "      <td>20</td>\n",
       "      <td>7.1</td>\n",
       "    </tr>\n",
       "    <tr>\n",
       "      <th>5</th>\n",
       "      <td>Telegram</td>\n",
       "      <td>5</td>\n",
       "      <td>1.8</td>\n",
       "    </tr>\n",
       "    <tr>\n",
       "      <th>6</th>\n",
       "      <td>Buscador</td>\n",
       "      <td>4</td>\n",
       "      <td>1.4</td>\n",
       "    </tr>\n",
       "    <tr>\n",
       "      <th>7</th>\n",
       "      <td>Instagram</td>\n",
       "      <td>3</td>\n",
       "      <td>1.1</td>\n",
       "    </tr>\n",
       "  </tbody>\n",
       "</table>\n",
       "</div>"
      ],
      "text/plain": [
       "          sources  Counts  Percentages\n",
       "0         Twitter      81         28.9\n",
       "1        Facebook      77         27.5\n",
       "2  Otros / Outros      63         22.5\n",
       "3        WhatsApp      27          9.6\n",
       "4          TikTok      20          7.1\n",
       "5        Telegram       5          1.8\n",
       "6        Buscador       4          1.4\n",
       "7       Instagram       3          1.1"
      ]
     },
     "execution_count": 19,
     "metadata": {},
     "output_type": "execute_result"
    },
    {
     "data": {
      "image/png": "[encoded data removed]",
      "text/plain": [
       "<Figure size 450x450 with 1 Axes>"
      ]
     },
     "metadata": {},
     "output_type": "display_data"
    }
   ],
   "source": [
    "field = 'sources'\n",
    "\n",
    "# Define the colour for the fact-checker to be coherent\n",
    "#colours_source_claims = define_colours(df_iberifier, field)\n",
    "\n",
    "# Get the counts\n",
    "field_counts = get_values_count(df_iberifier, field)\n",
    "\n",
    "# Get per days\n",
    "field_dates, field_dates_norm = output_df_for_cross(df_iberifier, 'date', field, reorder_first=False, reorder_second=True)\n",
    "\n",
    "# Get the table\n",
    "## Save the table\n",
    "#field_counts.to_csv(f\"./tables/{sample}_proportion_{field}.csv\")\n",
    "\n",
    "# Get the plot\n",
    "filename, fig, ax = plot_counts(field_counts, field, kind_bar='barh')\n",
    "ax.set_ylabel('Type of claim')\n",
    "ax.set_xlabel('Counts')\n",
    "\n",
    "## Save the plot\n",
    "save_plot(fig, ax, filename, 'all', legend=False)\n",
    "\n",
    "# Output the table\n",
    "field_counts"
   ]
  },
  {
   "cell_type": "markdown",
   "id": "9b649860-c498-4876-8226-e518f770eecb",
   "metadata": {},
   "source": [
    "## Fact checker and Qualification of claims"
   ]
  },
  {
   "cell_type": "code",
   "execution_count": 20,
   "id": "e8ff6aa4-8a2a-4f3e-a7dd-dc468c56faea",
   "metadata": {},
   "outputs": [
    {
     "name": "stderr",
     "output_type": "stream",
     "text": [
      "The PostScript backend does not support transparency; partially transparent artists will be rendered opaque.\n",
      "The PostScript backend does not support transparency; partially transparent artists will be rendered opaque.\n"
     ]
    },
    {
     "data": {
      "image/png": "[encoded data removed]",
      "text/plain": [
       "<Figure size 450x450 with 1 Axes>"
      ]
     },
     "metadata": {},
     "output_type": "display_data"
    }
   ],
   "source": [
    "# Setting up the variable for the plot\n",
    "field1 = 'fact_checker'\n",
    "field2 = 'qualification'\n",
    "color_palette = colours_qualification_claims\n",
    "df_to_plot, df_to_plot_norm = output_df_for_cross(df_iberifier, field1, field2)\n",
    "fig, ax = plt.subplots(layout='constrained')\n",
    "# Generating the plot\n",
    "filename, ax = plot_cross(df_to_plot_norm, field1, field2, color_palette,  width_bar=0.9, norm=True, ax=ax)\n",
    "ax.set_ylabel('Fact-checkers')\n",
    "ax.set_xlabel('Proportion')\n",
    "\n",
    "save_plot(fig, ax, filename, 'all', legend=True)\n",
    "\n",
    "\n"
   ]
  },
  {
   "cell_type": "markdown",
   "id": "b34ee1d3-fca4-47d7-a36b-76d7bec4313a",
   "metadata": {},
   "source": [
    "## Source and Qualification of claims"
   ]
  },
  {
   "cell_type": "code",
   "execution_count": 21,
   "id": "8da87a49-6eb0-4231-805e-e01385250678",
   "metadata": {},
   "outputs": [
    {
     "name": "stderr",
     "output_type": "stream",
     "text": [
      "The PostScript backend does not support transparency; partially transparent artists will be rendered opaque.\n",
      "The PostScript backend does not support transparency; partially transparent artists will be rendered opaque.\n"
     ]
    },
    {
     "data": {
      "image/png": "[encoded data removed]",
      "text/plain": [
       "<Figure size 450x450 with 1 Axes>"
      ]
     },
     "metadata": {},
     "output_type": "display_data"
    }
   ],
   "source": [
    "# Setting up the variables for the plot\n",
    "field1 = 'sources'\n",
    "field2 = 'qualification'\n",
    "color_palette = colours_qualification_claims\n",
    "df_to_plot, df_to_plot_norm = output_df_for_cross(df_iberifier, field1, field2)\n",
    "\n",
    "# Generating the plot\n",
    "fig, ax = plt.subplots(layout='constrained')\n",
    "\n",
    "filename, ax = plot_cross(df_to_plot_norm, field1, field2, colours=color_palette, norm=True,  ax=ax)\n",
    "ax.set_ylabel('Source of claims')\n",
    "ax.set_xlabel('Proportion')\n",
    "\n",
    "save_plot(fig, ax, filename, 'all')\n",
    "\n",
    "\n",
    "plt.show()"
   ]
  },
  {
   "cell_type": "markdown",
   "id": "87dbd3ec-23f3-4f8f-afa4-bb7da90e727b",
   "metadata": {},
   "source": [
    "## Category and Qualification of claims"
   ]
  },
  {
   "cell_type": "code",
   "execution_count": 22,
   "id": "a8d8be6a-2be8-46d0-8f0f-82ea24943d84",
   "metadata": {},
   "outputs": [],
   "source": [
    "field1 = 'categories'\n",
    "\n",
    "field2 = 'qualification'\n",
    "color_palette = colours_qualification_claims\n",
    "\n",
    "\n",
    "df_to_plot, df_to_plot_norm = output_df_for_cross(df_iberifier, field1, field2)"
   ]
  },
  {
   "cell_type": "code",
   "execution_count": 23,
   "id": "6da50fde-d59a-4b3c-be09-97f49e5533f7",
   "metadata": {},
   "outputs": [
    {
     "name": "stderr",
     "output_type": "stream",
     "text": [
      "The PostScript backend does not support transparency; partially transparent artists will be rendered opaque.\n",
      "The PostScript backend does not support transparency; partially transparent artists will be rendered opaque.\n"
     ]
    },
    {
     "data": {
      "image/png": "[encoded data removed]",
      "text/plain": [
       "<Figure size 450x600 with 1 Axes>"
      ]
     },
     "metadata": {},
     "output_type": "display_data"
    }
   ],
   "source": [
    "# Generating the plot\n",
    "fig, ax = plt.subplots(layout='constrained', figsize=(5, 7))\n",
    "\n",
    "filename, ax = plot_cross(df_to_plot_norm, field1, field2, colours=color_palette, norm=True,  ax=ax)\n",
    "fig.legend(loc='outside lower center', ncol=3)\n",
    "ax.legend().remove()\n",
    "ax.set_ylabel('Fact checkers')\n",
    "ax.set_xlabel('Proportion')\n",
    "save_plot(fig, ax, filename, 'all', legend=True, eps_size=(4.5, 6), png_size=(7, 10))\n",
    "\n",
    "plt.show()"
   ]
  },
  {
   "cell_type": "markdown",
   "id": "6859a6fa-7f59-4937-af18-c5d34ae2b831",
   "metadata": {},
   "source": [
    "# Experiment subset"
   ]
  },
  {
   "cell_type": "markdown",
   "id": "5ff7da0b-d3a6-4a2f-aa96-222dc01d52bf",
   "metadata": {},
   "source": [
    "## Overview"
   ]
  },
  {
   "cell_type": "code",
   "execution_count": 24,
   "id": "10f24fa3-aaf1-4404-804e-cf08931378d2",
   "metadata": {},
   "outputs": [
    {
     "data": {
      "text/html": [
       "<div>\n",
       "<style scoped>\n",
       "    .dataframe tbody tr th:only-of-type {\n",
       "        vertical-align: middle;\n",
       "    }\n",
       "\n",
       "    .dataframe tbody tr th {\n",
       "        vertical-align: top;\n",
       "    }\n",
       "\n",
       "    .dataframe thead th {\n",
       "        text-align: right;\n",
       "    }\n",
       "</style>\n",
       "<table border=\"1\" class=\"dataframe\">\n",
       "  <thead>\n",
       "    <tr style=\"text-align: right;\">\n",
       "      <th></th>\n",
       "      <th>Data source</th>\n",
       "      <th>Dataset</th>\n",
       "      <th>Counts</th>\n",
       "    </tr>\n",
       "  </thead>\n",
       "  <tbody>\n",
       "    <tr>\n",
       "      <th>0</th>\n",
       "      <td>Claims</td>\n",
       "      <td>All</td>\n",
       "      <td>94</td>\n",
       "    </tr>\n",
       "    <tr>\n",
       "      <th>1</th>\n",
       "      <td>News</td>\n",
       "      <td>All</td>\n",
       "      <td>1319</td>\n",
       "    </tr>\n",
       "    <tr>\n",
       "      <th>2</th>\n",
       "      <td>Tweets</td>\n",
       "      <td>All</td>\n",
       "      <td>71598</td>\n",
       "    </tr>\n",
       "  </tbody>\n",
       "</table>\n",
       "</div>"
      ],
      "text/plain": [
       "  Data source Dataset  Counts\n",
       "0      Claims     All      94\n",
       "1        News     All    1319\n",
       "2      Tweets     All   71598"
      ]
     },
     "execution_count": 24,
     "metadata": {},
     "output_type": "execute_result"
    }
   ],
   "source": [
    "datasources = ['Claims','News',  'Tweets' ]\n",
    "df_overview = pd.DataFrame({'Data source': datasources, 'Dataset': ['All']*3, 'Counts': eval_count})\n",
    "df_overview#.plot(kind='bar')"
   ]
  },
  {
   "cell_type": "code",
   "execution_count": 25,
   "id": "d85f6bb3-9caf-4936-96e0-19d79c537f22",
   "metadata": {},
   "outputs": [
    {
     "data": {
      "text/html": [
       "<div>\n",
       "<style scoped>\n",
       "    .dataframe tbody tr th:only-of-type {\n",
       "        vertical-align: middle;\n",
       "    }\n",
       "\n",
       "    .dataframe tbody tr th {\n",
       "        vertical-align: top;\n",
       "    }\n",
       "\n",
       "    .dataframe thead th {\n",
       "        text-align: right;\n",
       "    }\n",
       "</style>\n",
       "<table border=\"1\" class=\"dataframe\">\n",
       "  <thead>\n",
       "    <tr style=\"text-align: right;\">\n",
       "      <th>Dataset</th>\n",
       "      <th>All</th>\n",
       "      <th>Experiment subset</th>\n",
       "      <th>Difference</th>\n",
       "    </tr>\n",
       "    <tr>\n",
       "      <th>Data source</th>\n",
       "      <th></th>\n",
       "      <th></th>\n",
       "      <th></th>\n",
       "    </tr>\n",
       "  </thead>\n",
       "  <tbody>\n",
       "    <tr>\n",
       "      <th>Claims</th>\n",
       "      <td>191</td>\n",
       "      <td>94</td>\n",
       "      <td>97</td>\n",
       "    </tr>\n",
       "    <tr>\n",
       "      <th>News</th>\n",
       "      <td>1563</td>\n",
       "      <td>1319</td>\n",
       "      <td>244</td>\n",
       "    </tr>\n",
       "    <tr>\n",
       "      <th>Tweets</th>\n",
       "      <td>115873</td>\n",
       "      <td>71598</td>\n",
       "      <td>44275</td>\n",
       "    </tr>\n",
       "  </tbody>\n",
       "</table>\n",
       "</div>"
      ],
      "text/plain": [
       "Dataset         All  Experiment subset  Difference\n",
       "Data source                                       \n",
       "Claims          191                 94          97\n",
       "News           1563               1319         244\n",
       "Tweets       115873              71598       44275"
      ]
     },
     "execution_count": 25,
     "metadata": {},
     "output_type": "execute_result"
    }
   ],
   "source": [
    "datasources = ['Claims','News',  'Tweets', ]\n",
    "df_overview = pd.DataFrame({'Data source': datasources*2, 'Dataset': ['All']*3 +['Experiment subset']*3, 'Counts': all_count+eval_count})\n",
    "table = df_overview.pivot(index='Data source', columns='Dataset', values='Counts')\n",
    "table['Difference'] = table['All'] - table['Experiment subset']\n",
    "table"
   ]
  },
  {
   "cell_type": "code",
   "execution_count": 26,
   "id": "c5aa9ab9-b39c-41f5-a561-29cb3734a589",
   "metadata": {},
   "outputs": [],
   "source": [
    "# # define the subplots\n",
    "# fig, ax = plt.subplots(3, layout='constrained')\n",
    "\n",
    "# sns.despine(offset=5, trim=False)\n",
    "\n",
    "# # plot each line in a separate subplot\n",
    "# sns.barplot(data=df_overview[df_overview['Data source'] == 'Claims'], x='Data source', y='Counts', hue='Dataset',  ax=ax[0], palette=[main_color, second_color])\n",
    "# sns.barplot(data=df_overview[df_overview['Data source'] == 'Tweets'], x='Data source', y='Counts', hue='Dataset',  ax=ax[1], palette=[main_color, second_color], legend=None)\n",
    "# sns.barplot(data=df_overview[df_overview['Data source'] == 'News'], x='Data source', y='Counts', hue='Dataset',  ax=ax[2], palette=[main_color, second_color], legend=None)\n",
    "# # add titles and axis labels\n",
    "# ax[0].set_xlabel('')\n",
    "# ax[1].set_xlabel('')\n",
    "# ax[2].set_xlabel('')\n",
    "\n",
    "\n",
    "# # Removing y-axis labels\n",
    "# ax[0].set_ylabel('')\n",
    "# #ax[1].set_ylabel('')\n",
    "# ax[2].set_ylabel('')\n",
    "\n",
    "# #fig.legend(loc='outside lower center', ncol=2)\n",
    "# ax[0].legend().remove()\n",
    "# ax[1].legend().remove()\n",
    "# ax[2].legend().remove()\n",
    "\n",
    "# filename = f'overview_subsets'\n",
    "# save_plot(fig, ax, filename, 'exp', legend=True)\n",
    "# plt.show()"
   ]
  },
  {
   "cell_type": "markdown",
   "id": "70138fc6-7945-4bda-b120-cef5a05eaed7",
   "metadata": {},
   "source": [
    "# Topic relation"
   ]
  },
  {
   "cell_type": "code",
   "execution_count": 27,
   "id": "d961e716-2459-4857-9cac-ddf182bd7118",
   "metadata": {},
   "outputs": [
    {
     "data": {
      "text/html": [
       "<div>\n",
       "<style scoped>\n",
       "    .dataframe tbody tr th:only-of-type {\n",
       "        vertical-align: middle;\n",
       "    }\n",
       "\n",
       "    .dataframe tbody tr th {\n",
       "        vertical-align: top;\n",
       "    }\n",
       "\n",
       "    .dataframe thead th {\n",
       "        text-align: right;\n",
       "    }\n",
       "</style>\n",
       "<table border=\"1\" class=\"dataframe\">\n",
       "  <thead>\n",
       "    <tr style=\"text-align: right;\">\n",
       "      <th></th>\n",
       "      <th>topic_relation</th>\n",
       "    </tr>\n",
       "  </thead>\n",
       "  <tbody>\n",
       "    <tr>\n",
       "      <th>off-topic</th>\n",
       "      <td>58387</td>\n",
       "    </tr>\n",
       "    <tr>\n",
       "      <th>on-topic</th>\n",
       "      <td>13211</td>\n",
       "    </tr>\n",
       "  </tbody>\n",
       "</table>\n",
       "</div>"
      ],
      "text/plain": [
       "           topic_relation\n",
       "off-topic           58387\n",
       "on-topic            13211"
      ]
     },
     "execution_count": 27,
     "metadata": {},
     "output_type": "execute_result"
    }
   ],
   "source": [
    "tweets_topic_count  = df_tweets[df_tweets['topic_relation_subset'] == True]['topic_relation'].value_counts().to_frame()\n",
    "tweets_topic_count"
   ]
  },
  {
   "cell_type": "code",
   "execution_count": 28,
   "id": "5751e6cd-b83c-419a-8cbd-a4f9b1d76455",
   "metadata": {
    "tags": []
   },
   "outputs": [
    {
     "data": {
      "image/png": "[encoded data removed]",
      "text/plain": [
       "<Figure size 450x450 with 1 Axes>"
      ]
     },
     "metadata": {},
     "output_type": "display_data"
    }
   ],
   "source": [
    "fig, ax = plt.subplots(layout='constrained')\n",
    "sns.despine(offset=5, trim=False);\n",
    "tweets_topic_count.plot(kind='bar', y='topic_relation', ax=ax, color=main_color)\n",
    "ax.legend().remove()\n",
    "ax.set_ylabel('Counts')\n",
    "#ax[1].set_ylabel('')\n",
    "ax.set_xlabel('Classification')\n",
    "plt.setp(ax.get_xticklabels(), rotation=45, ha=\"right\", rotation_mode=\"anchor\")\n",
    "filename = 'tweet_topic'\n",
    "save_plot(fig, ax, filename, 'ontopic', legend=False)\n",
    "\n",
    "plt.show()"
   ]
  },
  {
   "cell_type": "markdown",
   "id": "bcf9dc2a-200e-47e4-bf68-f10cdea0e72c",
   "metadata": {},
   "source": [
    "# On topic"
   ]
  },
  {
   "cell_type": "markdown",
   "id": "6c8fbbd7-71b5-4b3c-af30-92ffd132b3b9",
   "metadata": {},
   "source": [
    "## Mynews on topic"
   ]
  },
  {
   "cell_type": "code",
   "execution_count": 29,
   "id": "11bf8025-fca5-4e59-b2cf-26d822c4f384",
   "metadata": {
    "tags": []
   },
   "outputs": [],
   "source": [
    "mynews_on_topic = df_mynews[(df_mynews['topic_relation'] == 'on-topic') & (df_mynews['topic_relation_subset'] == True)]\n",
    "\n",
    "iberifier_columns = ['date', 'time', 'sources', 'fact_id', 'categories', 'type', 'fact_checker', 'qualification']\n",
    "# Merge the iberifier onto the tweets based on the fact_id\n",
    "mynews_iberifier = pd.merge(mynews_on_topic, df_iberifier[iberifier_columns], on='fact_id', how='left')\n",
    "\n",
    "# Rename the date to avoid confusion\n",
    "mynews_iberifier = mynews_iberifier.rename(columns={'date_x': 'date_news', 'date_y': 'date_fact_check', 'time_x': 'time_news', 'time_y': 'time_fact_check'})\n",
    "mynews_to_plot_counts = mynews_iberifier.groupby([mynews_iberifier['date_news'], mynews_iberifier['Newspaper']]).size().unstack()\n",
    "\n",
    "\n",
    "mynews_line = mynews_iberifier.groupby(mynews_iberifier['date_news']).size()\n",
    "\n",
    "mynews_all_bar = mynews_iberifier[['date_news', 'Newspaper']].groupby([mynews_iberifier['date_news'], mynews_iberifier['Newspaper']]).size().unstack().fillna(0)"
   ]
  },
  {
   "cell_type": "code",
   "execution_count": null,
   "id": "f3ab36c1-c6f1-47f7-a087-35424e8648ae",
   "metadata": {
    "tags": []
   },
   "outputs": [
    {
     "name": "stderr",
     "output_type": "stream",
     "text": [
      "The PostScript backend does not support transparency; partially transparent artists will be rendered opaque.\n",
      "The PostScript backend does not support transparency; partially transparent artists will be rendered opaque.\n"
     ]
    }
   ],
   "source": [
    "sns.set_style(\"white\")\n",
    "fig, ax = plt.subplots(layout='constrained')\n",
    "sns.despine(offset=5, trim=False);\n",
    "\n",
    "\n",
    "#ax.plot(data=mynews_iberifier, kind='bar', stacked=True, ax=ax, linewidth=0,legend=False, alpha=0.2)\n",
    "#ax.plot_date(mynews_to_plot_counts.index, mynews_to_plot_counts.values, '--', label='News articles', color=main_color)\n",
    "\n",
    "#ax.plot_date(mynews_line.index, mynews_line.values, '--', label='News articles', color=main_color)\n",
    "\n",
    "ax.plot_date(mynews_line.index, mynews_line.values, '--', label='News articles', color=main_color)\n",
    "ax.fill_between(mynews_line.index, mynews_line.values, alpha=0.3, color=main_color)\n",
    "mynews_all_bar.plot(kind='bar', stacked=True,linewidth=0,legend=False, ax=ax)\n",
    "\n",
    "#ax.plot_date(mynews_line.index, mynews_line.values, linewidth=10)\n",
    "ax.xaxis.set_major_locator(mdates.DayLocator(interval=2))\n",
    "ax.tick_params(rotation=90)\n",
    "#plt.tight_layout()\n",
    "ax.set_xlabel('Date')\n",
    "\n",
    "filename = f'newspaper_overtime_cat'\n",
    "#save_plot(fig, ax, filename, sample)\n",
    "save_plot(fig, ax, filename, 'ontopic', legend=False)\n",
    "\n",
    "plt.show()"
   ]
  },
  {
   "cell_type": "code",
   "execution_count": null,
   "id": "80d555b8-c508-421c-9cac-c6fc4e8fecac",
   "metadata": {
    "tags": []
   },
   "outputs": [],
   "source": [
    "sns.set_style(\"white\")\n",
    "fig, ax = plt.subplots(layout='constrained')\n",
    "sns.despine(offset=5, trim=False);\n",
    "\n",
    "ax.plot_date(mynews_line.index, mynews_line.values, '--', label='News articles', color=main_color)\n",
    "ax.fill_between(mynews_line.index, mynews_line.values, alpha=0.3, color=main_color)\n",
    "ax.xaxis.set_major_locator(mdates.DayLocator(interval=2))\n",
    "ax.tick_params(rotation=90)\n",
    "ax.set_xlabel('Date')\n",
    "\n",
    "filename = f'newspaper_overtime_cat'\n",
    "#save_plot(fig, ax, filename, sample)\n",
    "\n",
    "#plt.savefig('./plots/newspaper_overtime.png', bbox_inches='tight')\n",
    "save_plot(fig, ax, filename, 'ontopic', legend=False)\n",
    "\n",
    "plt.show()"
   ]
  },
  {
   "cell_type": "markdown",
   "id": "1070db52-703a-4179-aa2c-53bfd1b75042",
   "metadata": {},
   "source": [
    "## Tweets on topic"
   ]
  },
  {
   "cell_type": "code",
   "execution_count": null,
   "id": "3f0c32cf-198a-45d8-97fe-7baae3a2e75e",
   "metadata": {},
   "outputs": [],
   "source": [
    "# Get the number of fact_id per tweets\n",
    "# Explode tweets on fact_id list\n",
    "# Only using on-topic withing the topic_relation_subset is True\n",
    "tweets_exploded = df_tweets[(df_tweets['topic_relation'] == 'on-topic') & (df_tweets['topic_relation_subset'] == True)].explode('fact_id')\n",
    "\n",
    "iberifier_columns = ['date', 'time', 'sources', 'fact_id', 'categories', 'type', 'fact_checker', 'qualification']\n",
    "# Merge the iberifier onto the tweets based on the fact_id\n",
    "tweets_iberifier = pd.merge(tweets_exploded, df_iberifier[iberifier_columns], on='fact_id', how='left')\n",
    "\n",
    "# Rename the date to avoid confusion\n",
    "tweets_iberifier = tweets_iberifier.rename(columns={'date_x': 'date_tweet', 'date_y': 'date_fact_check', 'time_x': 'time_tweet', 'time_y': 'time_fact_check'})\n",
    "\n",
    "# Replace nan values in the categories with string None  \n",
    "# FIXME Should be removed as soon as run on the new dataset as it is probably a bug from earlier in pipeline\n",
    "#tweets_iberifier = tweets_iberifier[['categories', 'type', 'qualification']].fillna('None')"
   ]
  },
  {
   "cell_type": "code",
   "execution_count": null,
   "id": "727e6ec7-36a6-4c66-b139-dc69138f7869",
   "metadata": {
    "tags": []
   },
   "outputs": [],
   "source": [
    "def match_tweet_factcheck_feature(df, feature_columns):\n",
    "    try:\n",
    "        group_feature = df.groupby(['fact_id', feature_columns]).size()\n",
    "\n",
    "    except TypeError: # In case it is a list\n",
    "        group_feature = df.explode(feature_columns).groupby(['fact_id', feature_columns]).size()\n",
    "    group_feature = group_feature.reset_index(level='fact_id', drop=True).reset_index()#.sort_values(by=0, ascending=False)\n",
    "    #group_feature = group_feature.assign(tmp=group_feature.sum(axis=1)).sort_values('tmp', ascending=True).drop(labels='tmp', axis=1)\n",
    "\n",
    "    return group_feature"
   ]
  },
  {
   "cell_type": "code",
   "execution_count": null,
   "id": "c96d6829-982e-4226-80c2-8c52871f9429",
   "metadata": {
    "tags": []
   },
   "outputs": [],
   "source": [
    "def plot_box_tweets(df, field, color, legend_position=None, ax=None):\n",
    "    fig = None\n",
    "    if ax is None:\n",
    "        fig, ax = plt.subplots(layout='constrained')\n",
    "    sns.despine(offset=5, trim=False);\n",
    "\n",
    "    filename = f\"tweets_{field}\"\n",
    "    order = df.groupby(field).sum().sort_values(by=0, ascending=False).index\n",
    "\n",
    "    #fig.suptitle(f\"{field1} and {field2} of claims [{min(df_iberifier['date'])} - {max(df_iberifier['date'])}]\")\n",
    "    plot = sns.boxplot(df, x=field, color= color, y=0, showfliers = False, order=order, ax=ax)\n",
    "    ax.set(xlabel=f'')\n",
    "    ax.set(ylabel=f'')\n",
    "    filename = f'tweets_{field}'\n",
    "    return filename, fig, ax"
   ]
  },
  {
   "cell_type": "markdown",
   "id": "9391d680-a897-4bcc-bb65-288eb556828f",
   "metadata": {
    "tags": []
   },
   "source": [
    "### Categories"
   ]
  },
  {
   "cell_type": "code",
   "execution_count": null,
   "id": "786fe4bf-e509-4a15-8afa-81cfb808fb5d",
   "metadata": {
    "tags": []
   },
   "outputs": [],
   "source": [
    "field_cat = 'categories'\n",
    "\n",
    "# Define the colour for the fact-checker to be coherent\n",
    "grouped_data_cat = match_tweet_factcheck_feature(tweets_iberifier, field_cat)\n",
    "stats_per_features_cat = grouped_data_cat.groupby(field_cat).describe()\n",
    "#stats_per_features.to_csv(f\"./tables/{sample}_tweets_per_{field}.csv\")\n",
    "stats_per_features_cat"
   ]
  },
  {
   "cell_type": "code",
   "execution_count": null,
   "id": "f7f5b08e-7a30-45f4-8a8f-2cbc22f8b0a5",
   "metadata": {
    "tags": []
   },
   "outputs": [],
   "source": [
    "## Grouping the data with <= 1 fact_ids to others\n",
    "under_threshold_categories = stats_per_features_cat[stats_per_features_cat[0]['count'] <= 1].index.values\n",
    "replacing_dict = {k: 'Otro / Outros' for k in under_threshold_categories}\n",
    "grouped_data_cat_plot = grouped_data_cat\n",
    "grouped_data_cat_plot['categories'] = grouped_data_cat_plot['categories'].replace(replacing_dict)"
   ]
  },
  {
   "cell_type": "code",
   "execution_count": null,
   "id": "54298b1a-d6de-48d8-a9c1-18c14f1498a4",
   "metadata": {
    "tags": []
   },
   "outputs": [],
   "source": [
    "filename_cat, fig_cat, ax_cat = plot_box_tweets(grouped_data_cat_plot, field_cat, second_color)\n",
    "plt.setp(ax_cat.get_xticklabels(), rotation=45, ha=\"right\", rotation_mode=\"anchor\")\n",
    "save_plot(fig, ax, filename_cat, 'ontopic', legend=False)\n",
    "\n",
    "plt.show()"
   ]
  },
  {
   "cell_type": "markdown",
   "id": "aaadb780-b098-46d2-984b-e2ba1d5cc518",
   "metadata": {
    "tags": []
   },
   "source": [
    "#### Type of disinformation"
   ]
  },
  {
   "cell_type": "code",
   "execution_count": null,
   "id": "0670dbd8-f151-4a74-9b2f-87e8ebc97bf3",
   "metadata": {
    "tags": []
   },
   "outputs": [],
   "source": [
    "field_type = 'type'\n",
    "# Define the colour for the fact-checker to be coherent\n",
    "colours_type_claims = define_colours(df_iberifier, field_type)\n",
    "grouped_data_type = match_tweet_factcheck_feature(tweets_iberifier, field_type)\n",
    "stats_per_features_type = grouped_data_type.groupby(field_type).describe()\n",
    "#stats_per_features.to_csv(f\"./tables/{sample}_tweets_per_{field}.csv\")\n",
    "stats_per_features_type"
   ]
  },
  {
   "cell_type": "code",
   "execution_count": null,
   "id": "6782e845-6056-4ff6-8025-9d07f1213167",
   "metadata": {
    "tags": []
   },
   "outputs": [],
   "source": [
    "## Grouping the data with <= 1 fact_ids to others\n",
    "under_threshold_type = stats_per_features_type[stats_per_features_type[0]['count'] <= 1].index.values\n",
    "replacing_dict = {k: 'Otro / Outros' for k in under_threshold_type}\n",
    "grouped_data_type_plot = grouped_data_type\n",
    "grouped_data_type_plot['type'] = grouped_data_type_plot['type'].replace(replacing_dict)"
   ]
  },
  {
   "cell_type": "code",
   "execution_count": null,
   "id": "babc8068-8de0-4124-a4a5-4bfc3ff15b07",
   "metadata": {
    "tags": []
   },
   "outputs": [],
   "source": [
    "filename_type, fig_type, ax_type = plot_box_tweets(grouped_data_type_plot, field_type, second_color)\n",
    "plt.setp(ax_type.get_xticklabels(), rotation=45, ha=\"right\", rotation_mode=\"anchor\")\n",
    "save_plot(fig, ax, filename_type, 'ontopic', legend=False)\n",
    "\n",
    "plt.show()"
   ]
  },
  {
   "cell_type": "code",
   "execution_count": null,
   "id": "5484457f-0bf3-46e0-b367-842a40897d54",
   "metadata": {},
   "outputs": [],
   "source": [
    "## Merge two plots into one\n",
    "fig, ax = plt.subplots(1,2, layout='constrained')\n",
    "sns.despine(offset=5, trim=False);\n",
    "\n",
    "\n",
    "order_cat = grouped_data_cat_plot.groupby(field_cat).sum().sort_values(by=0, ascending=False).index\n",
    "order_type = grouped_data_type_plot.groupby(field_type).sum().sort_values(by=0, ascending=False).index\n",
    "ax[0] = sns.boxplot(grouped_data_cat_plot, x=field_cat, color= second_color, y=0, showfliers = False, order=order_cat, medianprops=dict(color=main_color), ax=ax[0])\n",
    "ax[1] = sns.boxplot(grouped_data_type_plot, x=field_type, color= second_color, y=0, showfliers = False, order=order_type,\n",
    "                   # boxprops=dict(edgecolor=second_color),\n",
    "                    medianprops=dict(color=main_color), \n",
    "                   # whiskerprops=dict(color=second_color),\n",
    "                   # capprops=dict(color=second_color),\n",
    "                    ax=ax[1])\n",
    "\n",
    "#plot_box_tweets(grouped_data_cat_plot, field_cat, second_color, ax=ax[0], medianprops=dict(color=main_color))\n",
    "#plot_box_tweets(grouped_data_type_plot, field_type, main_color, ax=ax[1], medianprops=dict(color=second_color))\n",
    "\n",
    "\n",
    "\n",
    "    #fig.suptitle(f\"{field1} and {field2} of claims [{min(df_iberifier['date'])} - {max(df_iberifier['date'])}]\n",
    "ax[0].set(ylabel=f'')\n",
    "ax[1].set(ylabel=f'')\n",
    "\n",
    "plt.setp(ax[0].get_xticklabels(), rotation=90)#, ha=\"right\", rotation_mode=\"anchor\")\n",
    "plt.setp(ax[1].get_xticklabels(), rotation=90)#, ha=\"right\", rotation_mode=\"anchor\")\n",
    "ax[0].set_xlabel('Categories')\n",
    "ax[1].set_xlabel('Type')\n",
    "\n",
    "filename = f'tweets_cat_type_combined'\n",
    "save_plot(fig, ax, filename, 'ontopic', legend=False)\n",
    "\n",
    "plt.show()"
   ]
  },
  {
   "cell_type": "markdown",
   "id": "595cdd02-771b-4b3e-90cd-957d674a9ff7",
   "metadata": {},
   "source": [
    "# On Claims "
   ]
  },
  {
   "cell_type": "markdown",
   "id": "6fd2dfb9-2637-4ef2-9b46-a0dd708f453e",
   "metadata": {
    "tags": []
   },
   "source": [
    "## Using dates"
   ]
  },
  {
   "cell_type": "code",
   "execution_count": null,
   "id": "1c907f1d-1053-4589-aa20-c44de22e7de2",
   "metadata": {
    "tags": []
   },
   "outputs": [],
   "source": [
    "tweets_exploded = df_tweets[(df_tweets['topic_relation'] == 'on-topic') & (df_tweets['topic_relation_subset'] == True)].explode('fact_id')"
   ]
  },
  {
   "cell_type": "code",
   "execution_count": null,
   "id": "7483f854-5372-4ee7-b76f-417c3e393cdb",
   "metadata": {},
   "outputs": [],
   "source": [
    "# Calculate the difference in time between the time the tweet is published and the fact-check\n",
    "tweets_iberifier['diff_date'] = (tweets_iberifier['date_tweet'] - tweets_iberifier['date_fact_check']).dt.days\n",
    "tweets_iberifier['diff_date'] = tweets_iberifier['diff_date'].fillna(0)\n",
    "tweets_iberifier['diff_date'] = tweets_iberifier['diff_date'].astype('int') \n",
    "\n",
    "# Groupby and get the impact size for each of fact_id - Fill nan with 0 as it means nothing was collected before\n",
    "\n",
    "                                                                                                  \n",
    "             \n",
    "# Create the diff date for the plot\n",
    "diff_date = tweets_iberifier.groupby(['fact_id', 'diff_date']).size().reset_index()\n",
    "diff_date_per_factchecker = tweets_iberifier.groupby(['fact_id', 'diff_date', 'fact_checker']).size().reset_index()[['diff_date', 'fact_checker', 0]]\n",
    "diff_date_per_support_claim = tweets_iberifier.groupby(['fact_id', 'diff_date', 'claim_finer_relation']).size().reset_index()[['diff_date', 'claim_finer_relation', 0]]\n",
    "\n",
    "## Grouping by tweets metrics\n",
    "diff_date_metrics = tweets_iberifier.groupby(['fact_id', 'diff_date']).agg({'retweet_count': 'mean', \n",
    "                                                              'reply_count': 'mean', \n",
    "                                                              'like_count': 'mean',\n",
    "                                                              'quote_count': 'mean',\n",
    "                                                              'impression_count': 'mean'})\n",
    "\n",
    "diff_date_metrics_support_claim = tweets_iberifier.groupby(['fact_id', 'diff_date', 'claim_finer_relation']).agg({'retweet_count': 'mean', \n",
    "                                                              'reply_count': 'mean', \n",
    "                                                              'like_count': 'mean',\n",
    "                                                              'quote_count': 'mean',\n",
    "                                                              'impression_count': 'mean'}).reset_index()"
   ]
  },
  {
   "cell_type": "code",
   "execution_count": null,
   "id": "9c8038c4-2923-410b-849d-b0805384e996",
   "metadata": {
    "tags": []
   },
   "outputs": [],
   "source": [
    "sns.set_style(\"white\")\n",
    "\n",
    "fig, ax = plt.subplots(figsize=(6, 5))\n",
    "\n",
    "sns.despine(offset=5, trim=False)\n",
    "ax.axvline(x=0, color='grey', linestyle='--')\n",
    "ax = sns.lineplot(diff_date, x='diff_date', y=0, color=main_color)\n",
    "ax.text(x=2.7, y=ax.get_ylim()[1]-ax.get_ylim()[1]/4, s='Fact check publication', fontsize=12, color='grey', bbox={'boxstyle': 'round,pad=0.3', 'ec': 'none', 'fc': 'none'}, ha='center', va='top' )\n",
    "filename = 'impact_tweets_line_day'\n",
    "\n",
    "save_plot(fig, ax, filename, 'onclaim', legend=False)\n",
    "\n",
    "#save_plot(fig, ax, filename)"
   ]
  },
  {
   "cell_type": "code",
   "execution_count": null,
   "id": "15bd7301-81b0-4872-9d64-a3aa4813e04c",
   "metadata": {
    "tags": []
   },
   "outputs": [],
   "source": [
    "sns.set_style(\"white\")\n",
    "\n",
    "fig, ax = plt.subplots(layout='constrained')\n",
    "sns.despine(offset=5, trim=False)\n",
    "ax.axvline(x=0, color='grey', linestyle='--')\n",
    "\n",
    "ax = sns.lineplot(diff_date_per_support_claim, x='diff_date', hue='claim_finer_relation', y=0, palette=[second_color, third_color])\n",
    "ax.text(x=2.7, y=ax.get_ylim()[1]-ax.get_ylim()[1]/4, s='Fact check publication', fontsize=12, color='grey', bbox={'boxstyle': 'round,pad=0.3', 'ec': 'none', 'fc': 'none'}, ha='center', va='top' )\n",
    "filename = 'impact_tweets_line_day_by_diss'\n",
    "save_plot(fig, ax, filename, 'onclaim', legend=True)\n"
   ]
  },
  {
   "cell_type": "code",
   "execution_count": null,
   "id": "4d0261f4-46f1-4932-8a85-6b58d8183c6c",
   "metadata": {
    "tags": []
   },
   "outputs": [],
   "source": [
    "# define the subplots\n",
    "fig, ax = plt.subplots(5,  sharex=True, layout='constrained')\n",
    "\n",
    "sns.despine(offset=5, trim=False)\n",
    "\n",
    "# plot each line in a separate subplot\n",
    "sns.lineplot(data=diff_date_metrics_support_claim, x='diff_date', y='retweet_count', hue='claim_finer_relation', palette=[second_color, third_color], ax=ax[0])\n",
    "sns.lineplot(data=diff_date_metrics_support_claim, x='diff_date', y='reply_count', hue='claim_finer_relation', palette=[second_color, third_color], ax=ax[1], legend=None)\n",
    "sns.lineplot(data=diff_date_metrics_support_claim, x='diff_date', y='like_count', hue='claim_finer_relation',palette=[second_color, third_color],  ax=ax[2], legend=None)\n",
    "sns.lineplot(data=diff_date_metrics_support_claim, x='diff_date', y='quote_count', hue='claim_finer_relation',palette=[second_color, third_color], ax=ax[3], legend=None)\n",
    "sns.lineplot(data=diff_date_metrics_support_claim, x='diff_date', y='impression_count', hue='claim_finer_relation',palette=[second_color, third_color], ax=ax[4], legend=None)\n",
    "\n",
    "\n",
    "# Draw line for the event\n",
    "ax[0].axvline(x=0, ymax=ax[0].get_ylim()[1]/2, color='grey', linestyle='--')\n",
    "ax[1].axvline(x=0, ymax=ax[1].get_ylim()[1]/2, color='grey', linestyle='--')\n",
    "ax[2].axvline(x=0, ymax=ax[2].get_ylim()[1]/2, color='grey', linestyle='--')\n",
    "ax[3].axvline(x=0, ymax=ax[3].get_ylim()[1]/2, color='grey', linestyle='--')\n",
    "ax[4].axvline(x=0, ymax=ax[4].get_ylim()[1]/2, color='grey', linestyle='--')\n",
    "\n",
    "# add titles and axis labels\n",
    "ax[0].set_title('Retweet Count')\n",
    "ax[1].set_title('Reply Count')\n",
    "ax[2].set_title('Like Count')\n",
    "ax[3].set_title('Quote Count')\n",
    "ax[4].set_title('Impression Count')\n",
    "\n",
    "# Removing y-axis labels\n",
    "ax[0].set_ylabel('')\n",
    "ax[1].set_ylabel('')\n",
    "ax[2].set_ylabel('')\n",
    "ax[3].set_ylabel('')\n",
    "ax[4].set_ylabel('')\n",
    "\n",
    "# Set the xlabel\n",
    "ax[4].set_xlabel('Difference in days')\n",
    "\n",
    "filename = 'impact_tweets_metric_day_by_diss'\n",
    "save_plot(fig, ax, filename, 'onclaim', legend=True)\n",
    "\n",
    "plt.show()"
   ]
  },
  {
   "cell_type": "markdown",
   "id": "a62f0b99-d372-4e39-b84d-aff430c2754d",
   "metadata": {
    "tags": []
   },
   "source": [
    "### Using hours"
   ]
  },
  {
   "cell_type": "code",
   "execution_count": null,
   "id": "3de807b6-9a9e-4fad-b697-72e2dbd1cbbb",
   "metadata": {},
   "outputs": [],
   "source": [
    "# Calculate the difference in time between the time the tweet is published and the fact-check\n",
    "tweets_iberifier['diff_time'] = (tweets_iberifier['time_tweet'] - tweets_iberifier['time_fact_check']).astype('timedelta64[h]')\n",
    "tweets_iberifier['diff_time'] = pd.to_timedelta(tweets_iberifier['diff_time'], unit='h')\n",
    "# Create the diff date for the plot\n",
    "diff_time = tweets_iberifier.groupby(['fact_id', 'diff_time']).size().reset_index()\n",
    "diff_time_per_factchecker = tweets_iberifier.groupby(['fact_id', 'diff_time', 'fact_checker']).size().reset_index()[['diff_time', 'fact_checker', 0]]\n",
    "diff_time_per_support_claim = tweets_iberifier.groupby(['fact_id', 'diff_time', 'claim_finer_relation']).size().reset_index()[['diff_time', 'claim_finer_relation', 0]]\n",
    "\n",
    "## Grouping by tweets metrics\n",
    "diff_time_metrics = tweets_iberifier.groupby(['fact_id', 'diff_time']).agg({'retweet_count': 'mean', \n",
    "                                                              'reply_count': 'mean', \n",
    "                                                              'like_count': 'mean',\n",
    "                                                              'quote_count': 'mean',\n",
    "                                                              'impression_count': 'mean'}).reset_index()\n",
    "\n",
    "diff_time_metrics_support_claim = tweets_iberifier.groupby(['fact_id', 'diff_time', 'claim_finer_relation']).agg({'retweet_count': 'mean', \n",
    "                                                              'reply_count': 'mean', \n",
    "                                                              'like_count': 'mean',\n",
    "                                                              'quote_count': 'mean',\n",
    "                                                              'impression_count': 'mean'}).reset_index()"
   ]
  },
  {
   "cell_type": "code",
   "execution_count": null,
   "id": "a3bb4034-20d7-45cb-83ca-14199a340bb4",
   "metadata": {
    "tags": []
   },
   "outputs": [],
   "source": [
    "time_range = diff_time['diff_time'].unique()\n",
    "time_range.sort()\n",
    "\n",
    "sns.set_style(\"white\")\n",
    "fig, ax = plt.subplots(figsize=(6, 5))\n",
    "\n",
    "sns.despine(offset=5, trim=False)\n",
    "ax.axvline(x=0, color='grey', linestyle='--')\n",
    "ax = sns.lineplot(diff_time, x='diff_time', y=0, color=main_color)\n",
    "ax.set_ylabel('Counts')\n",
    "\n",
    "ax.set_xlabel('Difference in days/Divide per hours')\n",
    "ax.text(x=2.7, y=ax.get_ylim()[1]-ax.get_ylim()[1]/4, s='Fact check publication', fontsize=12, color='grey', bbox={'boxstyle': 'round,pad=0.3', 'ec': 'none', 'fc': 'none'}, ha='center', va='top' )\n",
    "filename = 'impact_tweets_line_hours'\n",
    "\n",
    "save_plot(fig, ax, filename, 'onclaim', legend=False)\n"
   ]
  },
  {
   "cell_type": "code",
   "execution_count": null,
   "id": "2256db13-fa2c-406c-bdb0-0bb484342649",
   "metadata": {
    "tags": []
   },
   "outputs": [],
   "source": [
    "time_range = diff_time_per_support_claim['diff_time'].unique()\n",
    "time_range.sort()\n",
    "\n",
    "\n",
    "sns.set_style(\"white\")\n",
    "\n",
    "fig, ax = plt.subplots(layout='constrained')\n",
    "sns.despine(offset=5, trim=False)\n",
    "ax.axvline(x=0, color='grey', linestyle='--')\n",
    "\n",
    "ax = sns.lineplot(diff_time_per_support_claim, x='diff_time', hue='claim_finer_relation', y=0, palette=[second_color, third_color])\n",
    "ax.text(x=0, y=ax.get_ylim()[1]-ax.get_ylim()[1]/4, s='Fact check publication', fontsize=12, color='grey', bbox={'boxstyle': 'round,pad=0.3', 'ec': 'none', 'fc': 'none'}, ha='center', va='top' )\n",
    "# Set the xlabel\n",
    "ax.set_ylabel('Counts')\n",
    "\n",
    "ax.set_xlabel('Difference in days/Divide per hours')\n",
    "filename = 'impact_tweets_line_hours_by_diss'\n",
    "\n",
    "save_plot(fig, ax,filename,  'onclaim')\n",
    "\n",
    "plt.show()"
   ]
  },
  {
   "cell_type": "code",
   "execution_count": null,
   "id": "6e21213c-2a65-434e-9de8-7a5816fd47c8",
   "metadata": {
    "tags": []
   },
   "outputs": [],
   "source": [
    "time_range = diff_time_metrics_support_claim['diff_time'].unique()\n",
    "time_range.sort()\n",
    "\n",
    "\n",
    "# define the subplots\n",
    "fig, ax = plt.subplots(5,  sharex=True, layout='constrained', figsize=(4.5, 10))\n",
    "\n",
    "sns.despine(offset=5, trim=False)\n",
    "\n",
    "# plot each line in a separate subplot\n",
    "sns.lineplot(data=diff_time_metrics_support_claim, x='diff_time', y='retweet_count', hue='claim_finer_relation', palette=[second_color, third_color], ax=ax[0])\n",
    "sns.lineplot(data=diff_time_metrics_support_claim, x='diff_time', y='reply_count', hue='claim_finer_relation', palette=[second_color, third_color], ax=ax[1], legend=None)\n",
    "sns.lineplot(data=diff_time_metrics_support_claim, x='diff_time', y='like_count', hue='claim_finer_relation',palette=[second_color, third_color],  ax=ax[2], legend=None)\n",
    "sns.lineplot(data=diff_time_metrics_support_claim, x='diff_time', y='quote_count', hue='claim_finer_relation',palette=[second_color, third_color], ax=ax[3], legend=None)\n",
    "sns.lineplot(data=diff_time_metrics_support_claim, x='diff_time', y='impression_count', hue='claim_finer_relation',palette=[second_color, third_color], ax=ax[4], legend=None)\n",
    "\n",
    "ax[0].axvline(x=0, ymax=ax[0].get_ylim()[1]/2, color='grey', linestyle='--')\n",
    "ax[1].axvline(x=0, ymax=ax[1].get_ylim()[1]/2, color='grey', linestyle='--')\n",
    "ax[2].axvline(x=0, ymax=ax[2].get_ylim()[1]/2, color='grey', linestyle='--')\n",
    "ax[3].axvline(x=0, ymax=ax[3].get_ylim()[1]/2, color='grey', linestyle='--')\n",
    "ax[4].axvline(x=0, ymax=ax[4].get_ylim()[1]/2, color='grey', linestyle='--')\n",
    "\n",
    "# add titles and axis labels\n",
    "ax[0].set_title('Retweet Count')\n",
    "ax[1].set_title('Reply Count')\n",
    "ax[2].set_title('Like Count')\n",
    "ax[3].set_title('Quote Count')\n",
    "ax[4].set_title('Impression Count')\n",
    "\n",
    "# Removing y-axis labels\n",
    "ax[0].set_ylabel('')\n",
    "ax[1].set_ylabel('')\n",
    "ax[2].set_ylabel('')\n",
    "ax[3].set_ylabel('')\n",
    "ax[4].set_ylabel('')\n",
    "\n",
    "# Set the xlabel\n",
    "ax[4].set_xlabel('Difference in days/Divide per hours')\n",
    "\n",
    "filename = 'impact_tweets_metric_hours_by_diss'\n",
    "\n",
    "save_plot(fig, ax,  filename, 'onclaim',)\n",
    "\n",
    "plt.show()"
   ]
  },
  {
   "cell_type": "code",
   "execution_count": null,
   "id": "21a0201c-ccdf-4848-8882-61a1b5f8935e",
   "metadata": {
    "tags": []
   },
   "outputs": [],
   "source": [
    "tweets_metrics = tweets_iberifier[['retweet_count', 'reply_count', 'like_count', 'quote_count', 'impression_count']]\n",
    "sns.heatmap(tweets_metrics.corr(), annot=True, square=True, vmin=-1, vmax=1, cmap=edmo_divert)\n",
    "filename = 'tweets_metric_corr'\n",
    "\n",
    "save_plot(fig, ax, 'onclaim', filename)\n"
   ]
  },
  {
   "cell_type": "markdown",
   "id": "e97ae441-ac14-431f-bd67-5f11d86360e1",
   "metadata": {
    "tags": []
   },
   "source": [
    "## Test to see a difference before and after"
   ]
  },
  {
   "cell_type": "code",
   "execution_count": null,
   "id": "45f4f2c1-2682-4878-98f8-ec06065fe7aa",
   "metadata": {
    "tags": []
   },
   "outputs": [],
   "source": [
    "tweets_iberifier['impact'] = np.where(tweets_iberifier['diff_time'] < pd.Timedelta(hours=0),  'Before/fact-check', np.where(tweets_iberifier['diff_time'] >= pd.Timedelta(hours=0), 'After', 'ERROR'))\n",
    "impact = tweets_iberifier.groupby(['fact_id', 'impact']).size().reset_index().fillna(0)   \n",
    "before = impact[impact['impact'] == 'Before/fact-check']\n",
    "after = impact[impact['impact'] == 'After']\n",
    "fact_both = list(set(before['fact_id']).intersection(after['fact_id']))\n",
    "len(fact_both)"
   ]
  },
  {
   "cell_type": "code",
   "execution_count": null,
   "id": "85337779-494f-4bce-bcbd-a627f91c655d",
   "metadata": {
    "tags": []
   },
   "outputs": [],
   "source": [
    "before_array = before[before['fact_id'].isin(fact_both)][0]\n",
    "after_array = after[after['fact_id'].isin(fact_both)][0]\n"
   ]
  },
  {
   "cell_type": "code",
   "execution_count": null,
   "id": "578c7417-3695-4bc0-89c3-ed188ec0ff74",
   "metadata": {
    "tags": []
   },
   "outputs": [],
   "source": [
    "t, p = stats.wilcoxon(before_array, after_array)\n",
    "t, p"
   ]
  },
  {
   "cell_type": "code",
   "execution_count": null,
   "id": "621b7127-318e-428d-b2ba-2fb105c26b2f",
   "metadata": {
    "tags": []
   },
   "outputs": [],
   "source": [
    "order = ['Before/fact-check', 'After']\n",
    "\n",
    "sns.set_style(\"white\")\n",
    "\n",
    "fig, ax = plt.subplots(figsize=(6, 5))\n",
    "sns.despine(offset=5, trim=False)\n",
    "\n",
    "sns.boxplot(impact, x='impact', y=0, order=order, showfliers=False, color=second_color)\n",
    "# calculate the y position for the markers\n",
    "ypos = ax.get_ylim()[1] * 0.9\n",
    "\n",
    "# add significance markers\n",
    "if p < 0.05:\n",
    "    ax.plot([0.25, 0.75], [ypos, ypos], linewidth=1, color='black')\n",
    "    ax.plot([0.25, 0.25], [ypos-2, ypos+0.05], linewidth=1, color='black')\n",
    "    ax.plot([0.75, 0.75], [ypos-5, ypos+0.05], linewidth=1, color='black')\n",
    "    ax.text(0.5, ypos, '*', ha='center', va='bottom', fontsize=20)\n",
    "\n",
    "filename = f'impact_tweets_all_hours_test'\n",
    "save_plot(fig, ax, filename,  'onclaim')\n",
    "plt.show()"
   ]
  },
  {
   "cell_type": "code",
   "execution_count": null,
   "id": "b1e4ceb3-7a80-4681-bd96-6bab4b8d8da2",
   "metadata": {},
   "outputs": [],
   "source": []
  }
 ],
 "metadata": {
  "kernelspec": {
   "display_name": "Python 3 (ipykernel)",
   "language": "python",
   "name": "python3"
  },
  "language_info": {
   "codemirror_mode": {
    "name": "ipython",
    "version": 3
   },
   "file_extension": ".py",
   "mimetype": "text/x-python",
   "name": "python",
   "nbconvert_exporter": "python",
   "pygments_lexer": "ipython3",
   "version": "3.10.2"
  }
 },
 "nbformat": 4,
 "nbformat_minor": 5
}
